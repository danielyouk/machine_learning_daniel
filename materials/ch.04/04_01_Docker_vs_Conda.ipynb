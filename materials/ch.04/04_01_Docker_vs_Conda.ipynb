{
 "cells": [
  {
   "cell_type": "markdown",
   "metadata": {},
   "source": [
    "```mermaid\n",
    "graph LR\n",
    "    A[Conda] --> B[Isolated Python Environment]\n",
    "    A --> C[Manage Dependencies]\n",
    "    B --> D[Python Packages]\n",
    "    C --> E[Specific Versions of Libraries]\n",
    "\n",
    "    F[Docker] --> G[Isolated Application Environment]\n",
    "    F --> H[Containerization]\n",
    "    G --> I[Includes App, Runtime, and Dependencies]\n",
    "    H --> J[Runs Anywhere]\n"
   ]
  },
  {
   "cell_type": "markdown",
   "metadata": {},
   "source": [
    "### Example Conda Environment YAML File\n",
    "\n",
    "```yaml\n",
    "name: ml-env\n",
    "channels:\n",
    "  - conda-forge\n",
    "  - defaults\n",
    "dependencies:\n",
    "  - python=3.11\n",
    "  - numpy\n",
    "  - pandas\n",
    "  - scikit-learn\n",
    "  - scipy\n",
    "  - matplotlib\n",
    "  - seaborn\n",
    "  - xgboost\n",
    "  - catboost\n",
    "  - lightgbm\n",
    "  - pip\n",
    "  - pip:\n",
    "    - -r requirements.txt\n",
    "```\n",
    "\n",
    "### Example Dockerfile\n",
    "\n",
    "```dockerfile\n",
    "# Use the official Python image from the Docker Hub\n",
    "FROM python:3.8-slim\n",
    "\n",
    "# Set the working directory in the container\n",
    "WORKDIR /app\n",
    "\n",
    "# Copy the requirements file into the container\n",
    "COPY requirements.txt .\n",
    "\n",
    "# Install the dependencies specified in the requirements file\n",
    "RUN pip install --no-cache-dir -r requirements.txt\n",
    "\n",
    "# Copy the rest of your application code into the container\n",
    "COPY . .\n",
    "\n",
    "# Command to run your application\n",
    "CMD [\"python\", \"app.py\"]\n",
    "```"
   ]
  }
 ],
 "metadata": {
  "language_info": {
   "name": "python"
  }
 },
 "nbformat": 4,
 "nbformat_minor": 2
}
