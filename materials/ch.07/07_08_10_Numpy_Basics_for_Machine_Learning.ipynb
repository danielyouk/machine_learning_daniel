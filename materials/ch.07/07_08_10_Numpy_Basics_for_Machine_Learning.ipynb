{
 "cells": [
  {
   "cell_type": "markdown",
   "metadata": {},
   "source": [
    "# Why Numpy is Important in Machine Learning\n",
    "\n",
    "Numpy is a fundamental package for scientific computing in Python. It provides powerful tools and techniques that enable numerical operations, which are essential for data processing and transformation, key components in the pipeline of machine learning algorithms. Here are some of the reasons why Numpy is crucial in machine learning:\n",
    "\n",
    "1. **Performance**: Numpy provides efficient storage and computation for large arrays of data, which is much faster than traditional Python lists.\n",
    "2. **Functionality**: A wide range of mathematical functions are available in Numpy that support complex scientific calculations.\n",
    "3. **Interoperability**: Many machine learning and data analysis libraries in Python (like pandas, Scikit-Learn, and many) are built to use Numpy arrays as the standard data structure.\n",
    "\n",
    "The following example demonstrates how Numpy can be used to perform efficient calculations for machine learning data preprocessing.\n",
    "\n",
    "## Example: Data Normalization\n",
    "\n",
    "Data normalization is a common preprocessing technique used in machine learning to standardize the range of independent variables or features of data.\n"
   ]
  },
  {
   "cell_type": "code",
   "execution_count": 1,
   "metadata": {},
   "outputs": [
    {
     "name": "stdout",
     "output_type": "stream",
     "text": [
      "Original Data:\n",
      "[[10 20]\n",
      " [30 40]\n",
      " [50 60]]\n",
      "Normalized Data:\n",
      "[[0.  0.2]\n",
      " [0.4 0.6]\n",
      " [0.8 1. ]]\n"
     ]
    }
   ],
   "source": [
    "import numpy as np\n",
    "\n",
    "# Creating sample data\n",
    "data = np.array([[10, 20], [30, 40], [50, 60]])\n",
    "\n",
    "# Normalizing data (Min-Max normalization)\n",
    "normalized_data = (data - data.min()) / (data.max() - data.min())\n",
    "\n",
    "print(\"Original Data:\")\n",
    "print(data)\n",
    "print(\"Normalized Data:\")\n",
    "print(normalized_data)"
   ]
  },
  {
   "cell_type": "markdown",
   "metadata": {},
   "source": [
    "# Comparison Between Numpy Arrays and Tensors in Deep Learning\n",
    "\n",
    "Understanding the differences between Numpy arrays and tensors, especially those used in deep learning frameworks like TensorFlow or PyTorch, is crucial for effectively managing data in various machine learning contexts.\n",
    "\n",
    "## Numpy Arrays\n",
    "\n",
    "Numpy arrays are the backbone of the Numpy library, designed for scientific computing in Python. Here's what makes Numpy arrays a tool of choice in many traditional machine learning scenarios:\n",
    "\n",
    "- **Efficiency and Speed**: ***Built in C*** and highly optimized for CPU operations.\n",
    "- **Widespread Adoption**: Extensively used in both academia and industry for numerical computations.\n",
    "- **Versatile Operations**: Capable of performing a wide range of mathematical and statistical operations.\n",
    "\n",
    "## Tensors in Deep Learning\n",
    "\n",
    "Tensors are advanced data structures used extensively in deep learning libraries like TensorFlow and PyTorch, tailored for high-performance computations required in neural networks training and inference:\n",
    "\n",
    "- **GPU Acceleration**: Tensors are designed to leverage GPUs for accelerated computation, crucial for training deep learning models.\n",
    "- **Automatic Differentiation**: Deep learning frameworks provide built-in support for automatic differentiation, facilitating the backpropagation process in training neural networks.\n",
    "- **Scalability**: Tensors and their operations are designed to be easily scalable across multiple devices and machines, handling large datasets and complex models efficiently.\n",
    "\n",
    "## Example: Numpy vs. TensorFlow\n",
    "\n",
    "Here is a simple comparison of performing a mathematical operation using both Numpy and TensorFlow to highlight the practical differences:"
   ]
  },
  {
   "cell_type": "code",
   "execution_count": 6,
   "metadata": {},
   "outputs": [
    {
     "name": "stdout",
     "output_type": "stream",
     "text": [
      "Numpy Result:\n",
      "[[ 1  4]\n",
      " [ 9 16]]\n",
      "TensorFlow Result:\n",
      "[[ 1  4]\n",
      " [ 9 16]]\n"
     ]
    }
   ],
   "source": [
    "import numpy as np\n",
    "import tensorflow as tf\n",
    "\n",
    "# Numpy array multiplication\n",
    "numpy_array = np.array([[1, 2], [3, 4]])\n",
    "numpy_result = numpy_array * numpy_array\n",
    "\n",
    "# TensorFlow tensor multiplication\n",
    "tensor = tf.constant([[1, 2], [3, 4]])\n",
    "tensor_result = tensor * tensor\n",
    "\n",
    "print(\"Numpy Result:\")\n",
    "print(numpy_result)\n",
    "\n",
    "print(\"TensorFlow Result:\")\n",
    "print(tensor_result.numpy())  # Converting tensor result to a numpy array for display\n"
   ]
  },
  {
   "cell_type": "markdown",
   "metadata": {},
   "source": [
    "# Why Not Use Tensors for Everything?\n",
    "\n",
    "Tensor libraries like TensorFlow and PyTorch indeed offer functionality that overlaps significantly with Numpy, particularly when it comes to handling arrays and performing mathematical operations. However, there are several reasons why Numpy, and not tensor libraries, is used for certain tasks in machine learning and data science:\n",
    "\n",
    "## Simplicity and Accessibility:\n",
    "\n",
    "- **Numpy** is simpler to use for general-purpose numerical and scientific computing. Its API is straightforward, making it an excellent tool for beginners and for tasks that don't require the overhead of TensorFlow or PyTorch.\n",
    "- **Tensor libraries** can be more complex and are overkill for simple tasks. They also introduce additional computational overhead due to their focus on supporting GPU operations and building computational graphs for deep learning.\n",
    "\n",
    "## Compatibility and Integration:\n",
    "\n",
    "- **Numpy** has been around much longer than TensorFlow and PyTorch. As a result, it has broad compatibility with other Python libraries, especially in data manipulation and statistical analysis (e.g., pandas, SciPy, scikit-learn).\n",
    "- Many older or well-established libraries and systems are built to work with Numpy arrays, not tensors.\n",
    "\n",
    "## Performance for Non-Deep Learning Tasks:\n",
    "\n",
    "- **Numpy** is highly optimized for vectorized operations on CPU. For tasks that are purely numerical and do not require backpropagation or GPUs, Numpy can be more efficient.\n",
    "- **Tensor libraries** are optimized for GPU-accelerated computing and backpropagation in neural networks, which is overengineering when such capabilities are not needed.\n",
    "\n",
    "## Community and Ecosystem:\n",
    "\n",
    "- **Numpy** is a fundamental part of the Python data science ecosystem, supported by a massive community and a wealth of documentation and resources.\n",
    "- While TensorFlow and PyTorch also have strong communities, they are more specialized towards neural networks and deep learning.\n",
    "\n",
    "## Conclusion\n",
    "\n",
    "While tensors and Numpy arrays share many similar properties, their use cases can be quite different. Numpy is generally preferred for general-purpose scientific computing and data manipulation, where simplicity and CPU operations are key. Tensor libraries, however, are essential for building and training complex deep learning models where GPU acceleration and automatic differentiation are required.\n",
    "\n",
    "Using the right tool for the right job not only maximizes efficiency but also simplifies development, making your projects more manageable and maintainable.\n"
   ]
  },
  {
   "cell_type": "markdown",
   "metadata": {},
   "source": [
    "# Numpy Operations\n",
    "## Creating Numpy Arrays\n",
    "Numpy arrays can be created from lists or using built-in functions."
   ]
  },
  {
   "cell_type": "code",
   "execution_count": 27,
   "metadata": {},
   "outputs": [
    {
     "name": "stdout",
     "output_type": "stream",
     "text": [
      "Array from list: [1 2 3 4 5]\n",
      "Zeros array:\n",
      " [[0. 0. 0.]\n",
      " [0. 0. 0.]]\n",
      "Ones array:\n",
      " [[1. 1. 1.]\n",
      " [1. 1. 1.]]\n",
      "Arange array: [0 2 4 6 8]\n"
     ]
    }
   ],
   "source": [
    "import numpy as np\n",
    "\n",
    "# Creating arrays from lists\n",
    "array_from_list = np.array([1, 2, 3, 4, 5])\n",
    "print(\"Array from list:\", array_from_list)\n",
    "\n",
    "# Creating arrays using built-in functions\n",
    "zeros_array = np.zeros((2, 3))\n",
    "ones_array = np.ones((2, 3))\n",
    "arange_array = np.arange(0, 10, 2) # inclusive, exclusive, step\n",
    "\n",
    "print(\"Zeros array:\\n\", zeros_array)\n",
    "print(\"Ones array:\\n\", ones_array)\n",
    "print(\"Arange array:\", arange_array)"
   ]
  },
  {
   "cell_type": "markdown",
   "metadata": {},
   "source": [
    "## Basic Operations\n",
    "Numpy supports a variety of basic operations like addition, subtraction, and element-wise multiplication."
   ]
  },
  {
   "cell_type": "code",
   "execution_count": 28,
   "metadata": {},
   "outputs": [
    {
     "name": "stdout",
     "output_type": "stream",
     "text": [
      "a + b = [5 7 9]\n",
      "a - b = [-3 -3 -3]\n",
      "a * b = [ 4 10 18]\n",
      "Dot product: np.dot(a, b) = 32\n"
     ]
    }
   ],
   "source": [
    "a = np.array([1, 2, 3])\n",
    "b = np.array([4, 5, 6])\n",
    "\n",
    "# Addition\n",
    "print(\"a + b =\", a + b)\n",
    "\n",
    "# Subtraction\n",
    "print(\"a - b =\", a - b)\n",
    "\n",
    "# Element-wise multiplication\n",
    "print(\"a * b =\", a * b)\n",
    "\n",
    "# Dot product\n",
    "print(\"Dot product: np.dot(a, b) =\", np.dot(a, b))"
   ]
  },
  {
   "cell_type": "markdown",
   "metadata": {},
   "source": [
    "## Reshaping Arrays\n",
    "Reshaping arrays without changing the data is a common operation."
   ]
  },
  {
   "cell_type": "code",
   "execution_count": 29,
   "metadata": {},
   "outputs": [
    {
     "name": "stdout",
     "output_type": "stream",
     "text": [
      "Original array: [ 1  2  3  4  5  6  7  8  9 10 11 12]\n",
      "Reshaped array (3x4):\n",
      " [[ 1  2  3  4]\n",
      " [ 5  6  7  8]\n",
      " [ 9 10 11 12]]\n",
      "Flattened array: [ 1  2  3  4  5  6  7  8  9 10 11 12]\n"
     ]
    }
   ],
   "source": [
    "array = np.arange(1, 13)\n",
    "print(\"Original array:\", array)\n",
    "\n",
    "reshaped_array = array.reshape((3, 4))\n",
    "print(\"Reshaped array (3x4):\\n\", reshaped_array)\n",
    "\n",
    "flattened_array = reshaped_array.flatten()\n",
    "print(\"Flattened array:\", flattened_array)"
   ]
  },
  {
   "cell_type": "markdown",
   "metadata": {},
   "source": [
    "## Broadcasting\n",
    "Broadcasting allows Numpy to perform operations on arrays of different shapes."
   ]
  },
  {
   "cell_type": "code",
   "execution_count": 30,
   "metadata": {},
   "outputs": [
    {
     "name": "stdout",
     "output_type": "stream",
     "text": [
      "Array 1:\n",
      " [[1 2 3]\n",
      " [4 5 6]]\n",
      "Array 2: [1 2 3]\n",
      "Broadcasted result:\n",
      " [[2 4 6]\n",
      " [5 7 9]]\n"
     ]
    }
   ],
   "source": [
    "array_1 = np.array([[1, 2, 3], [4, 5, 6]])\n",
    "array_2 = np.array([1, 2, 3])\n",
    "\n",
    "print(\"Array 1:\\n\", array_1)\n",
    "print(\"Array 2:\", array_2)\n",
    "\n",
    "# Broadcasting array_2 to match array_1's shape\n",
    "result = array_1 + array_2\n",
    "print(\"Broadcasted result:\\n\", result)"
   ]
  },
  {
   "cell_type": "markdown",
   "metadata": {},
   "source": [
    "# Numpy Array Indexing\n",
    "\n",
    "Indexing in Numpy allows you to access specific elements or segments of an array, which is crucial for manipulating data efficiently in data science and machine learning tasks.\n",
    "\n",
    "## 1D Array Indexing\n",
    "\n",
    "You can access elements in a one-dimensional array just like you would in a Python list.\n",
    "\n",
    "## 2D Array Indexing\n",
    "\n",
    "Two-dimensional arrays can be indexed similarly, but you need to specify both row and column indices.\n",
    "\n",
    "## Advanced Indexing\n",
    "\n",
    "Numpy also supports boolean indexing and fancy indexing, which allow for more complex retrieval of array elements based on conditions or arrays of indices.\n"
   ]
  },
  {
   "cell_type": "code",
   "execution_count": 34,
   "metadata": {},
   "outputs": [
    {
     "name": "stdout",
     "output_type": "stream",
     "text": [
      "Original 1D array: [0 1 2 3 4 5 6 7 8 9]\n",
      "Element at index 3: 3\n",
      "Elements from index 3 to 8: [3 4 5 6 7]\n",
      "Every other element from start to end: [1 3]\n"
     ]
    }
   ],
   "source": [
    "# Code cell for 1D Array Indexing\n",
    "import numpy as np\n",
    "\n",
    "# Creating a simple 1D array\n",
    "array_1d = np.arange(10)  # Creates an array with elements from 0 to 9\n",
    "print(\"Original 1D array:\", array_1d)\n",
    "print(\"Element at index 3:\", array_1d[3])\n",
    "print(\"Elements from index 3 to 8:\", array_1d[3:8]) # very important, inclusive and exclusive\n",
    "print(\"Every other element from start to end:\", array_1d[1:5:2]) # very important, start(inclusive), end(exclusive), step\n"
   ]
  },
  {
   "cell_type": "code",
   "execution_count": 23,
   "metadata": {},
   "outputs": [
    {
     "name": "stdout",
     "output_type": "stream",
     "text": [
      "Original 2D array is:\n",
      " [[1 2 3]\n",
      " [4 5 6]\n",
      " [7 8 9]]\n",
      "Element at row 1, column 2: 6\n",
      "The second row: [4 5 6]\n",
      "The first column: [1 4 7]\n"
     ]
    }
   ],
   "source": [
    "# Code cell for 2D Array Indexing\n",
    "array_2d = np.array([[1, 2, 3], [4, 5, 6], [7, 8, 9]])\n",
    "print(\"Original 2D array is:\\n\", array_2d)\n",
    "\n",
    "print(\"Element at row 1, column 2:\", array_2d[1, 2])\n",
    "\n",
    "print(\"The second row:\", array_2d[1])\n",
    "\n",
    "print(\"The first column:\", array_2d[:, 0])"
   ]
  },
  {
   "cell_type": "code",
   "execution_count": 24,
   "metadata": {},
   "outputs": [
    {
     "name": "stdout",
     "output_type": "stream",
     "text": [
      "Advanced Indexing:\n",
      "Elements greater than 5: [6 7 8 9]\n"
     ]
    }
   ],
   "source": [
    "# Code cell for Advanced Indexing\n",
    "print(\"Advanced Indexing:\")\n",
    "print(\"Elements greater than 5:\", array_1d[array_1d > 5])"
   ]
  },
  {
   "cell_type": "code",
   "execution_count": 25,
   "metadata": {},
   "outputs": [
    {
     "name": "stdout",
     "output_type": "stream",
     "text": [
      "Elements at indices 3, 5, and 6: [3 5 6]\n"
     ]
    }
   ],
   "source": [
    "fancy_indices = np.array([3, 5, 6])\n",
    "print(\"Elements at indices 3, 5, and 6:\", array_1d[fancy_indices])"
   ]
  },
  {
   "cell_type": "code",
   "execution_count": 26,
   "metadata": {},
   "outputs": [
    {
     "name": "stdout",
     "output_type": "stream",
     "text": [
      "Original 2D array:\n",
      " [[1 2 3]\n",
      " [4 5 6]\n",
      " [7 8 9]]\n",
      "Rows at indices 0, 2, and 1:\n",
      " [[1 2 3]\n",
      " [7 8 9]\n",
      " [4 5 6]]\n"
     ]
    }
   ],
   "source": [
    "# Define the fancy indices\n",
    "fancy_indices = np.array([0, 2, 1])\n",
    "\n",
    "# Print the elements at the specified indices in the 2D array\n",
    "# Here, we are selecting the rows using fancy indexing\n",
    "print(\"Original 2D array:\\n\", array_2d)\n",
    "print(\"Rows at indices 0, 2, and 1:\\n\", array_2d[fancy_indices])"
   ]
  }
 ],
 "metadata": {
  "kernelspec": {
   "display_name": "ml-windows",
   "language": "python",
   "name": "python3"
  },
  "language_info": {
   "codemirror_mode": {
    "name": "ipython",
    "version": 3
   },
   "file_extension": ".py",
   "mimetype": "text/x-python",
   "name": "python",
   "nbconvert_exporter": "python",
   "pygments_lexer": "ipython3",
   "version": "3.11.9"
  }
 },
 "nbformat": 4,
 "nbformat_minor": 2
}
